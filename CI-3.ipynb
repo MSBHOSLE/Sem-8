{
 "cells": [
  {
   "cell_type": "code",
   "execution_count": 5,
   "id": "886427e8",
   "metadata": {},
   "outputs": [
    {
     "name": "stdout",
     "output_type": "stream",
     "text": [
      "Coolest Year: 2016\n",
      "Hottest Year: 2018\n"
     ]
    }
   ],
   "source": [
    "from collections import defaultdict\n",
    "\n",
    "# Sample weather data (year: temperature)\n",
    "weather_data = {\n",
    "    2010: 20,\n",
    "    2011: 25,\n",
    "    2012: 18,\n",
    "    2013: 30,\n",
    "    2014: 22,\n",
    "    2015: 32,\n",
    "    2016: 17,\n",
    "    2017: 28,\n",
    "    2018: 35,\n",
    "    2019: 19\n",
    "}\n",
    "\n",
    "def map_function(data):\n",
    "    result = []\n",
    "    for year, temp in data.items():\n",
    "        result.append((year, temp))\n",
    "    return result\n",
    "\n",
    "def reduce_function(mapped_data):\n",
    "    if not mapped_data:\n",
    "        return None, None\n",
    "    min_temp = float('inf')\n",
    "    max_temp = float('-inf')\n",
    "    coolest_year = None\n",
    "    hottest_year = None\n",
    "    for year, temp in mapped_data:\n",
    "        if temp < min_temp:\n",
    "            min_temp = temp\n",
    "            coolest_year = year\n",
    "        if temp > max_temp:\n",
    "            max_temp = temp\n",
    "            hottest_year = year\n",
    "    return coolest_year, hottest_year\n",
    "\n",
    "def main():\n",
    "    # Map phase\n",
    "    mapped_data = map_function(weather_data)\n",
    "\n",
    "    # Reduce phase\n",
    "    coolest_year, hottest_year = reduce_function(mapped_data)\n",
    "\n",
    "    print(\"Coolest Year:\", coolest_year)\n",
    "    print(\"Hottest Year:\", hottest_year)\n",
    "\n",
    "if __name__ == \"__main__\":\n",
    "    main()"
   ]
  },
  {
   "cell_type": "code",
   "execution_count": null,
   "id": "bdff2a84",
   "metadata": {},
   "outputs": [],
   "source": []
  }
 ],
 "metadata": {
  "kernelspec": {
   "display_name": "Python 3",
   "language": "python",
   "name": "python3"
  },
  "language_info": {
   "codemirror_mode": {
    "name": "ipython",
    "version": 3
   },
   "file_extension": ".py",
   "mimetype": "text/x-python",
   "name": "python",
   "nbconvert_exporter": "python",
   "pygments_lexer": "ipython3",
   "version": "3.8.8"
  }
 },
 "nbformat": 4,
 "nbformat_minor": 5
}
