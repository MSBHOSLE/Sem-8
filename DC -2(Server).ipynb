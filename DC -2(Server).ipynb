{
 "cells": [
  {
   "cell_type": "code",
   "execution_count": null,
   "id": "a8c6f286",
   "metadata": {},
   "outputs": [
    {
     "name": "stdout",
     "output_type": "stream",
     "text": [
      "Server URI: PYRO:obj_2e3e5129e7b04df98c36ef5a0554f469@localhost:58760\n"
     ]
    }
   ],
   "source": [
    "import Pyro4\n",
    "\n",
    "@Pyro4.expose\n",
    "class StringConcatenationServer:\n",
    "    def concatenate_strings(self, str1, str2):\n",
    "        result = str1 + str2\n",
    "        return result\n",
    "\n",
    "daemon = Pyro4.Daemon()  # Instantiate a Pyro4 daemon\n",
    "uri = daemon.register(StringConcatenationServer)  # Register the server object\n",
    "\n",
    "print(f\"Server URI: {uri}\")\n",
    "\n",
    "# Run the server's main loop\n",
    "daemon.requestLoop()\n"
   ]
  },
  {
   "cell_type": "code",
   "execution_count": null,
   "id": "f81ab42a",
   "metadata": {},
   "outputs": [],
   "source": []
  }
 ],
 "metadata": {
  "kernelspec": {
   "display_name": "Python 3",
   "language": "python",
   "name": "python3"
  },
  "language_info": {
   "codemirror_mode": {
    "name": "ipython",
    "version": 3
   },
   "file_extension": ".py",
   "mimetype": "text/x-python",
   "name": "python",
   "nbconvert_exporter": "python",
   "pygments_lexer": "ipython3",
   "version": "3.8.8"
  }
 },
 "nbformat": 4,
 "nbformat_minor": 5
}
