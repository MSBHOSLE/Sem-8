{
 "cells": [
  {
   "cell_type": "code",
   "execution_count": 1,
   "id": "a0387688",
   "metadata": {},
   "outputs": [
    {
     "name": "stdout",
     "output_type": "stream",
     "text": [
      "Enter an integer to calculate factorial: 7\n",
      "The factorial of 7 is: 5040\n"
     ]
    }
   ],
   "source": [
    "from xmlrpc.client import ServerProxy\n",
    "\n",
    "# Connect to the server\n",
    "server = ServerProxy(\"http://localhost:8000/\")\n",
    "\n",
    "# Function to calculate factorial remotely\n",
    "def remote_factorial(n):\n",
    "    result = server.factorial(n)\n",
    "    return result\n",
    "\n",
    "# Input from the user\n",
    "try:\n",
    "    num = int(input(\"Enter an integer to calculate factorial: \"))\n",
    "    result = remote_factorial(num)\n",
    "    print(f\"The factorial of {num} is: {result}\")\n",
    "except ValueError:\n",
    "    print(\"Please enter a valid integer.\")\n",
    "except Exception as e:\n",
    "    print(f\"Error: {e}\")\n"
   ]
  },
  {
   "cell_type": "code",
   "execution_count": 2,
   "id": "6c021b1a",
   "metadata": {},
   "outputs": [
    {
     "name": "stdout",
     "output_type": "stream",
     "text": [
      "Enter an integer to calculate factorial: 5\n",
      "The factorial of 5 is: 120\n"
     ]
    }
   ],
   "source": [
    "from xmlrpc.client import ServerProxy\n",
    "\n",
    "# Connect to the server\n",
    "server = ServerProxy(\"http://localhost:8000/\")\n",
    "\n",
    "# Function to calculate factorial remotely\n",
    "def remote_factorial(n):\n",
    "    result = server.factorial(n)\n",
    "    return result\n",
    "\n",
    "# Input from the user\n",
    "try:\n",
    "    num = int(input(\"Enter an integer to calculate factorial: \"))\n",
    "    result = remote_factorial(num)\n",
    "    print(f\"The factorial of {num} is: {result}\")\n",
    "except ValueError:\n",
    "    print(\"Please enter a valid integer.\")\n",
    "except Exception as e:\n",
    "    print(f\"Error: {e}\")\n"
   ]
  },
  {
   "cell_type": "code",
   "execution_count": null,
   "id": "a99a0297",
   "metadata": {},
   "outputs": [],
   "source": []
  }
 ],
 "metadata": {
  "kernelspec": {
   "display_name": "Python 3",
   "language": "python",
   "name": "python3"
  },
  "language_info": {
   "codemirror_mode": {
    "name": "ipython",
    "version": 3
   },
   "file_extension": ".py",
   "mimetype": "text/x-python",
   "name": "python",
   "nbconvert_exporter": "python",
   "pygments_lexer": "ipython3",
   "version": "3.8.8"
  }
 },
 "nbformat": 4,
 "nbformat_minor": 5
}
