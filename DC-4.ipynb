{
 "cells": [
  {
   "cell_type": "code",
   "execution_count": 2,
   "id": "bfaffb2a",
   "metadata": {},
   "outputs": [
    {
     "name": "stdout",
     "output_type": "stream",
     "text": [
      "Request 'Request1' sent to Server Server1\n",
      "Request 'Request2' sent to Server Server2\n",
      "Request 'Request3' sent to Server Server3\n",
      "Request 'Request4' sent to Server Server1\n",
      "Request 'Request5' sent to Server Server2\n"
     ]
    }
   ],
   "source": [
    "class LoadBalancer:\n",
    "    def __init__(self, servers):\n",
    "        self.servers = servers\n",
    "        self.current_server_index = 0\n",
    "\n",
    "    def distribute_request(self, request):\n",
    "        server = self.servers[self.current_server_index]\n",
    "        self.current_server_index = (self.current_server_index + 1) % len(self.servers)\n",
    "        print(f\"Request '{request}' sent to Server {server}\")\n",
    "\n",
    "# Simulating client requests\n",
    "client_requests = [\"Request1\", \"Request2\", \"Request3\", \"Request4\", \"Request5\"]\n",
    "\n",
    "# Simulating three servers\n",
    "servers_list = [\"Server1\", \"Server2\", \"Server3\"]\n",
    "load_balancer = LoadBalancer(servers_list)\n",
    "\n",
    "# Distributing requests among servers\n",
    "for request in client_requests:\n",
    "    load_balancer.distribute_request(request)\n"
   ]
  },
  {
   "cell_type": "markdown",
   "id": "599d7fe7",
   "metadata": {},
   "source": [
    "This example uses a simple round-robin algorithm to distribute requests among servers. The LoadBalancer class keeps track of the current server index and assigns each request to the server at that index. The index is then updated to distribute the next request to the next server in the list.\n",
    "\n",
    "You can extend this code to include more sophisticated load balancing algorithms, such as weighted round-robin, least connections, or random selection, based on your specific requirements. "
   ]
  },
  {
   "cell_type": "code",
   "execution_count": 3,
   "id": "ca2c664c",
   "metadata": {},
   "outputs": [
    {
     "name": "stdout",
     "output_type": "stream",
     "text": [
      "Using Round-Robin Algorithm:\n",
      "Round-Robin: Request 'Request1' sent to Server Server1\n",
      "Round-Robin: Request 'Request2' sent to Server Server2\n",
      "Round-Robin: Request 'Request3' sent to Server Server3\n",
      "Round-Robin: Request 'Request4' sent to Server Server1\n",
      "Round-Robin: Request 'Request5' sent to Server Server2\n",
      "\n",
      "Using Random Selection Algorithm:\n",
      "Random Selection: Request 'Request1' sent to Server Server1\n",
      "Random Selection: Request 'Request2' sent to Server Server2\n",
      "Random Selection: Request 'Request3' sent to Server Server1\n",
      "Random Selection: Request 'Request4' sent to Server Server1\n",
      "Random Selection: Request 'Request5' sent to Server Server1\n",
      "\n",
      "Using Weighted Round-Robin Algorithm:\n",
      "Weighted Round-Robin: Request 'Request1' sent to Server Server1\n",
      "Weighted Round-Robin: Request 'Request2' sent to Server Server3\n",
      "Weighted Round-Robin: Request 'Request3' sent to Server Server1\n",
      "Weighted Round-Robin: Request 'Request4' sent to Server Server2\n",
      "Weighted Round-Robin: Request 'Request5' sent to Server Server1\n"
     ]
    }
   ],
   "source": [
    "import random\n",
    "\n",
    "class LoadBalancer:\n",
    "    def __init__(self, servers, algorithm='round-robin'):\n",
    "        self.servers = servers\n",
    "        self.algorithm = algorithm\n",
    "        self.current_server_index = 0\n",
    "\n",
    "    def distribute_request(self, request):\n",
    "        if self.algorithm == 'round-robin':\n",
    "            self.round_robin(request)\n",
    "        elif self.algorithm == 'random':\n",
    "            self.random_selection(request)\n",
    "        elif self.algorithm == 'weighted-round-robin':\n",
    "            self.weighted_round_robin(request)\n",
    "        else:\n",
    "            print(\"Invalid load balancing algorithm\")\n",
    "\n",
    "    def round_robin(self, request):\n",
    "        server = self.servers[self.current_server_index]\n",
    "        self.current_server_index = (self.current_server_index + 1) % len(self.servers)\n",
    "        print(f\"Round-Robin: Request '{request}' sent to Server {server}\")\n",
    "\n",
    "    def random_selection(self, request):\n",
    "        server = random.choice(self.servers)\n",
    "        print(f\"Random Selection: Request '{request}' sent to Server {server}\")\n",
    "\n",
    "    def weighted_round_robin(self, request):\n",
    "        # Assuming each server has a weight attribute (you can customize as needed)\n",
    "        weights = [3, 2, 1]  # Adjust weights for each server\n",
    "\n",
    "        total_weight = sum(weights)\n",
    "        index = (self.current_server_index + 1) % len(self.servers)\n",
    "        while index != self.current_server_index:\n",
    "            if random.uniform(0, total_weight) < weights[index]:\n",
    "                break\n",
    "            index = (index + 1) % len(self.servers)\n",
    "\n",
    "        server = self.servers[index]\n",
    "        print(f\"Weighted Round-Robin: Request '{request}' sent to Server {server}\")\n",
    "\n",
    "# Simulating client requests\n",
    "client_requests = [\"Request1\", \"Request2\", \"Request3\", \"Request4\", \"Request5\"]\n",
    "\n",
    "# Simulating three servers\n",
    "servers_list = [\"Server1\", \"Server2\", \"Server3\"]\n",
    "\n",
    "# Using Round-Robin algorithm\n",
    "print(\"Using Round-Robin Algorithm:\")\n",
    "load_balancer_round_robin = LoadBalancer(servers_list, algorithm='round-robin')\n",
    "for request in client_requests:\n",
    "    load_balancer_round_robin.distribute_request(request)\n",
    "\n",
    "# Using Random Selection algorithm\n",
    "print(\"\\nUsing Random Selection Algorithm:\")\n",
    "load_balancer_random = LoadBalancer(servers_list, algorithm='random')\n",
    "for request in client_requests:\n",
    "    load_balancer_random.distribute_request(request)\n",
    "\n",
    "# Using Weighted Round-Robin algorithm\n",
    "print(\"\\nUsing Weighted Round-Robin Algorithm:\")\n",
    "load_balancer_weighted_round_robin = LoadBalancer(servers_list, algorithm='weighted-round-robin')\n",
    "for request in client_requests:\n",
    "    load_balancer_weighted_round_robin.distribute_request(request)\n"
   ]
  },
  {
   "cell_type": "code",
   "execution_count": null,
   "id": "1a3ab74f",
   "metadata": {},
   "outputs": [],
   "source": []
  }
 ],
 "metadata": {
  "kernelspec": {
   "display_name": "Python 3",
   "language": "python",
   "name": "python3"
  },
  "language_info": {
   "codemirror_mode": {
    "name": "ipython",
    "version": 3
   },
   "file_extension": ".py",
   "mimetype": "text/x-python",
   "name": "python",
   "nbconvert_exporter": "python",
   "pygments_lexer": "ipython3",
   "version": "3.8.8"
  }
 },
 "nbformat": 4,
 "nbformat_minor": 5
}
