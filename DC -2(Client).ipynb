{
 "cells": [
  {
   "cell_type": "code",
   "execution_count": 2,
   "id": "269f0b36",
   "metadata": {},
   "outputs": [
    {
     "name": "stdout",
     "output_type": "stream",
     "text": [
      "Enter the server URI: PYRO:obj_2e3e5129e7b04df98c36ef5a0554f469@localhost:58760\n",
      "Enter the first string: Dave \n",
      "Enter the second string: Josh\n",
      "The concatenated string is: Dave Josh\n"
     ]
    }
   ],
   "source": [
    "import Pyro4\n",
    "\n",
    "# Get the URI of the server\n",
    "server_uri = input(\"Enter the server URI: \")\n",
    "\n",
    "# Connect to the server\n",
    "server = Pyro4.Proxy(server_uri)\n",
    "\n",
    "# Function to concatenate strings remotely\n",
    "def remote_concatenate_strings(str1, str2):\n",
    "    result = server.concatenate_strings(str1, str2)\n",
    "    return result\n",
    "\n",
    "# Input from the user\n",
    "try:\n",
    "    str1 = input(\"Enter the first string: \")\n",
    "    str2 = input(\"Enter the second string: \")\n",
    "    result = remote_concatenate_strings(str1, str2)\n",
    "    print(f\"The concatenated string is: {result}\")\n",
    "except Exception as e:\n",
    "    print(f\"Error: {e}\")\n"
   ]
  },
  {
   "cell_type": "code",
   "execution_count": null,
   "id": "b9d495de",
   "metadata": {},
   "outputs": [],
   "source": []
  }
 ],
 "metadata": {
  "kernelspec": {
   "display_name": "Python 3",
   "language": "python",
   "name": "python3"
  },
  "language_info": {
   "codemirror_mode": {
    "name": "ipython",
    "version": 3
   },
   "file_extension": ".py",
   "mimetype": "text/x-python",
   "name": "python",
   "nbconvert_exporter": "python",
   "pygments_lexer": "ipython3",
   "version": "3.8.8"
  }
 },
 "nbformat": 4,
 "nbformat_minor": 5
}
