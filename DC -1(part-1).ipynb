{
 "cells": [
  {
   "cell_type": "code",
   "execution_count": 8,
   "id": "f1261ee9",
   "metadata": {},
   "outputs": [
    {
     "name": "stdout",
     "output_type": "stream",
     "text": [
      "Closest antibody index: 1\n",
      "Classification result: undamaged\n"
     ]
    }
   ],
   "source": [
    "import numpy as np\n",
    "class ArtificialImmuneSystem:\n",
    "    def __init__(self, num_antibodies, num_features):\n",
    "        self.num_antibodies = num_antibodies\n",
    "        self.num_features = num_features\n",
    "        self.antibodies = np.random.rand(num_antibodies, num_features)\n",
    " \n",
    "    def train(self, data, labels, num_iterations):\n",
    "        for _ in range(num_iterations):\n",
    "            for i in range(len(data)):\n",
    "                self.update_antibodies(data[i], labels[i])\n",
    " \n",
    "    def update_antibodies(self, instance, label):\n",
    "        closest_antibody_idx = self.find_closest_antibody(instance)\n",
    "        if label == 'damaged':\n",
    "            self.antibodies[closest_antibody_idx] = self.antibodies[closest_antibody_idx] * 0.9\n",
    "        else:\n",
    "            self.antibodies[closest_antibody_idx] = self.antibodies[closest_antibody_idx] * 1.1\n",
    " \n",
    "    def find_closest_antibody(self, instance):\n",
    "        distances = np.linalg.norm(self.antibodies - instance, axis=1)\n",
    "        return np.argmin(distances)\n",
    "# Example usage:\n",
    "# Assuming 'data' is a numpy array of input features and 'labels' is a list of corresponding labels ('damaged' or 'undamaged')\n",
    "data = np.array([[0.2, 0.8], [0.4, 0.6], [0.6, 0.4], [0.8, 0.2]])\n",
    "labels = ['damaged', 'undamaged', 'undamaged', 'damaged']\n",
    "num_antibodies = 5\n",
    "num_features = 2\n",
    "num_iterations = 10\n",
    "ais = ArtificialImmuneSystem(num_antibodies, num_features)\n",
    "ais.train(data, labels, num_iterations)\n",
    "\n",
    "# After training, the antibodies can be used for classification of new instances\n",
    "new_instance = np.array([0.3, 0.7])\n",
    "\n",
    "# Finding the closest antibody index\n",
    "closest_antibody_idx = ais.find_closest_antibody(new_instance)\n",
    "print(\"Closest antibody index:\", closest_antibody_idx)\n",
    "\n",
    "# Fetching the label of the closest antibody\n",
    "closest_antibody_label = labels[closest_antibody_idx]\n",
    "print(\"Classification result:\", closest_antibody_label)"
   ]
  },
  {
   "cell_type": "code",
   "execution_count": null,
   "id": "a6b2d481",
   "metadata": {},
   "outputs": [],
   "source": []
  }
 ],
 "metadata": {
  "kernelspec": {
   "display_name": "Python 3",
   "language": "python",
   "name": "python3"
  },
  "language_info": {
   "codemirror_mode": {
    "name": "ipython",
    "version": 3
   },
   "file_extension": ".py",
   "mimetype": "text/x-python",
   "name": "python",
   "nbconvert_exporter": "python",
   "pygments_lexer": "ipython3",
   "version": "3.8.8"
  }
 },
 "nbformat": 4,
 "nbformat_minor": 5
}
